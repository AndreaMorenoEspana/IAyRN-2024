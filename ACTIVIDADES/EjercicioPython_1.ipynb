{
  "nbformat": 4,
  "nbformat_minor": 0,
  "metadata": {
    "colab": {
      "provenance": [],
      "authorship_tag": "ABX9TyNy7t3EUd0jsbUgbfK2Cle6",
      "include_colab_link": true
    },
    "kernelspec": {
      "name": "python3",
      "display_name": "Python 3"
    },
    "language_info": {
      "name": "python"
    }
  },
  "cells": [
    {
      "cell_type": "markdown",
      "metadata": {
        "id": "view-in-github",
        "colab_type": "text"
      },
      "source": [
        "<a href=\"https://colab.research.google.com/github/AndreaMorenoEspana/IAyRN-2024/blob/main/EjercicioPython_1.ipynb\" target=\"_parent\"><img src=\"https://colab.research.google.com/assets/colab-badge.svg\" alt=\"Open In Colab\"/></a>"
      ]
    },
    {
      "cell_type": "markdown",
      "source": [
        "# **Actividad 2: Diseño de algoritmos en Python**\n",
        "\n",
        "Andrea Verónica Moreno España  2109443  *IMTC*\n",
        "\n",
        "\n",
        "*   Gpo: 008\n",
        "*   Hora: N4\n",
        "\n"
      ],
      "metadata": {
        "id": "dBjuCrdNZaq9"
      }
    },
    {
      "cell_type": "code",
      "source": [
        "\"\"\" Ejercicio 1 \"\"\"\n",
        "\n",
        "def saludo():\n",
        "    nombre = input(\"Ingrese su nombre: \")\n",
        "\n",
        "    NO = [\"Ana\", \"Juan\", \"Pedro\"]\n",
        "    if nombre in NO:\n",
        "        print(\"Sin Respuesta\", nombre)\n",
        "    else:\n",
        "        print(\"Hola,\", nombre + \"!\")\n",
        "\n",
        "saludo()"
      ],
      "metadata": {
        "colab": {
          "base_uri": "https://localhost:8080/"
        },
        "id": "PUpTxLRXasq2",
        "outputId": "458ad475-09a8-44c4-8c73-e1db3de533a2"
      },
      "execution_count": 1,
      "outputs": [
        {
          "output_type": "stream",
          "name": "stdout",
          "text": [
            "Ingrese su nombre: Ana\n",
            "Sin Respuesta\n"
          ]
        }
      ]
    },
    {
      "cell_type": "code",
      "source": [
        "\"\"\" Ejercicio 2 \"\"\"\n",
        "\n",
        "def invertir_lista():\n",
        "    n = int(input(\"Ingrese el número de elementos de la lista: \"))\n",
        "\n",
        "    lista = []\n",
        "\n",
        "    print(\"Ingrese los elementos de la lista:\")\n",
        "    for i in range(n):\n",
        "        elemento = input(\"Elemento {}: \".format(i+1))\n",
        "        lista.append(elemento)\n",
        "\n",
        "    lista_invertida = lista[::-1]\n",
        "\n",
        "    print(\"La lista original es:\", lista)\n",
        "    print(\"La lista invertida es:\", lista_invertida)\n",
        "\n",
        "invertir_lista()"
      ],
      "metadata": {
        "colab": {
          "base_uri": "https://localhost:8080/"
        },
        "id": "x_CvalLLcYy0",
        "outputId": "af5bfa2f-fd7a-4eea-da8c-2facc1afa47b"
      },
      "execution_count": 15,
      "outputs": [
        {
          "output_type": "stream",
          "name": "stdout",
          "text": [
            "Ingrese el número de elementos de la lista: 5\n",
            "Ingrese los elementos de la lista:\n",
            "Elemento 1: Fresa\n",
            "Elemento 2: Uva\n",
            "Elemento 3: Mango\n",
            "Elemento 4: Kiwi\n",
            "Elemento 5: Sandía\n",
            "La lista original es: ['Fresa', 'Uva', 'Mango', 'Kiwi', 'Sandía']\n",
            "La lista invertida es: ['Sandía', 'Kiwi', 'Mango', 'Uva', 'Fresa']\n"
          ]
        }
      ]
    },
    {
      "cell_type": "code",
      "source": [
        "\"\"\" Ejercicio 3 \"\"\"\n",
        "\n",
        "def fibonacci(n):\n",
        "    fibonacci_series = [0, 1]\n",
        "\n",
        "    for i in range(2, n):\n",
        "        next_fibonacci = fibonacci_series[-1] + fibonacci_series[-2]\n",
        "        fibonacci_series.append(next_fibonacci)\n",
        "\n",
        "    return fibonacci_series\n",
        "\n",
        "def main():\n",
        "\n",
        "    num_terminos = int(input(\"Ingrese el número de términos de la serie de Fibonacci a generar: \"))\n",
        "\n",
        "    serie_fibonacci = fibonacci(num_terminos)\n",
        "    print(\"La serie de Fibonacci con {} términos es:\".format(num_terminos))\n",
        "    print(serie_fibonacci)\n",
        "\n",
        "main()"
      ],
      "metadata": {
        "colab": {
          "base_uri": "https://localhost:8080/"
        },
        "id": "vQocr1Hsdpnf",
        "outputId": "4026b03d-4498-4268-c342-0cf755a22c67"
      },
      "execution_count": 16,
      "outputs": [
        {
          "output_type": "stream",
          "name": "stdout",
          "text": [
            "Ingrese el número de términos de la serie de Fibonacci a generar: 8\n",
            "La serie de Fibonacci con 8 términos es:\n",
            "[0, 1, 1, 2, 3, 5, 8, 13]\n"
          ]
        }
      ]
    },
    {
      "cell_type": "code",
      "source": [
        "\"\"\" Ejercicio 4 \"\"\"\n",
        "\n",
        "import random\n",
        "def adivina_numero():\n",
        "    numero_objetivo = random.randint(1, 100)\n",
        "\n",
        "    print(\"¡Juego de adivinar el número!\")\n",
        "    print(\"Intenta adivinar un número entre 1 y 100.\")\n",
        "\n",
        "    intentos = 0\n",
        "\n",
        "    while True:\n",
        "        intento = int(input(\"\\nIngresa tu intento: \"))\n",
        "        intentos += 1\n",
        "\n",
        "        if intento < numero_objetivo:\n",
        "            print(\"El número objetivo es mayor. Intenta de nuevo.\")\n",
        "        elif intento > numero_objetivo:\n",
        "            print(\"El número objetivo es menor. Intenta de nuevo.\")\n",
        "        else:\n",
        "            print(\"\\n¡Felicidades! Has adivinado el número objetivo en {} intentos.\".format(intentos))\n",
        "            break\n",
        "\n",
        "adivina_numero()"
      ],
      "metadata": {
        "colab": {
          "base_uri": "https://localhost:8080/"
        },
        "id": "ldAIuvQXeLOj",
        "outputId": "03c422ec-63a9-4047-8de6-65ef78baa6c1"
      },
      "execution_count": 3,
      "outputs": [
        {
          "output_type": "stream",
          "name": "stdout",
          "text": [
            "¡Juego de adivinar el número!\n",
            "Intenta adivinar un número entre 1 y 100.\n",
            "\n",
            "Ingresa tu intento: 20\n",
            "El número objetivo es menor. Intenta de nuevo.\n",
            "\n",
            "Ingresa tu intento: 5\n",
            "El número objetivo es mayor. Intenta de nuevo.\n",
            "\n",
            "Ingresa tu intento: 10\n",
            "El número objetivo es menor. Intenta de nuevo.\n",
            "\n",
            "Ingresa tu intento: 8\n",
            "El número objetivo es menor. Intenta de nuevo.\n",
            "\n",
            "Ingresa tu intento: 6\n",
            "El número objetivo es mayor. Intenta de nuevo.\n",
            "\n",
            "Ingresa tu intento: 7\n",
            "\n",
            "¡Felicidades! Has adivinado el número objetivo en 6 intentos.\n"
          ]
        }
      ]
    },
    {
      "cell_type": "code",
      "source": [
        "\"\"\" Ejercicio 5 \"\"\"\n",
        "\n",
        "def num_primo(numero):\n",
        "    if numero <= 1:\n",
        "        return False\n",
        "    elif numero <= 3:\n",
        "        return True\n",
        "    elif numero % 2 == 0 or numero % 3 == 0:\n",
        "        return False\n",
        "    i = 5\n",
        "    while i * i <= numero:\n",
        "        if numero % i == 0 or numero % (i + 2) == 0:\n",
        "            return False\n",
        "        i += 6\n",
        "    return True\n",
        "\n",
        "def encontrar_primos_en_rango(inicio, fin):\n",
        "    print(\"\\nLos números primos en el rango de\", inicio, \"a\", fin, \"son:\")\n",
        "    for numero in range(inicio, fin + 1):\n",
        "        if num_primo(numero):\n",
        "            print(numero)\n",
        "\n",
        "def main():\n",
        "    inicio = int(input(\"Ingrese el número inicial del rango: \"))\n",
        "    fin = int(input(\"Ingrese el número final del rango: \"))\n",
        "\n",
        "    encontrar_primos_en_rango(inicio, fin)\n",
        "\n",
        "main()"
      ],
      "metadata": {
        "colab": {
          "base_uri": "https://localhost:8080/"
        },
        "id": "mtDkD-Xpepz1",
        "outputId": "2992690b-d58d-4329-b73c-41271f72921c"
      },
      "execution_count": 5,
      "outputs": [
        {
          "output_type": "stream",
          "name": "stdout",
          "text": [
            "Ingrese el número inicial del rango: 1\n",
            "Ingrese el número final del rango: 10\n",
            "\n",
            "Los números primos en el rango de 1 a 10 son:\n",
            "2\n",
            "3\n",
            "5\n",
            "7\n"
          ]
        }
      ]
    },
    {
      "cell_type": "code",
      "source": [
        "\"\"\" Ejercicio 6 \"\"\"\n",
        "\n",
        "def suma(a, b):\n",
        "    return a + b\n",
        "\n",
        "def resta(a, b):\n",
        "    return a - b\n",
        "\n",
        "def multiplicacion(a, b):\n",
        "    return a * b\n",
        "\n",
        "def division(a, b):\n",
        "    if b != 0:\n",
        "        return a / b\n",
        "    else:\n",
        "        return \"Error: División por cero\"\n",
        "\n",
        "def main():\n",
        "    numero1 = float(input(\"Ingrese el primer número: \"))\n",
        "    numero2 = float(input(\"Ingrese el segundo número: \"))\n",
        "\n",
        "    print(\"\\nOperaciones disponibles:\")\n",
        "    print(\"1. Suma\")\n",
        "    print(\"2. Resta\")\n",
        "    print(\"3. Multiplicación\")\n",
        "    print(\"4. División\")\n",
        "\n",
        "    opcion = int(input(\"\\nSeleccione una operación (1/2/3/4): \"))\n",
        "\n",
        "    if opcion == 1:\n",
        "        print(\"\\nEl resultado de la suma es:\", suma(numero1, numero2))\n",
        "    elif opcion == 2:\n",
        "        print(\"\\nEl resultado de la resta es:\", resta(numero1, numero2))\n",
        "    elif opcion == 3:\n",
        "        print(\"\\nEl resultado de la multiplicación es:\", multiplicacion(numero1, numero2))\n",
        "    elif opcion == 4:\n",
        "        print(\"\\nEl resultado de la división es:\", division(numero1, numero2))\n",
        "    else:\n",
        "        print(\"\\nOpción inválida. Por favor seleccione una operación válida.\")\n",
        "\n",
        "main()"
      ],
      "metadata": {
        "colab": {
          "base_uri": "https://localhost:8080/"
        },
        "id": "8hNxkNm7eysV",
        "outputId": "3226961a-e75c-4cd2-d91d-d9498b43c2ad"
      },
      "execution_count": 2,
      "outputs": [
        {
          "output_type": "stream",
          "name": "stdout",
          "text": [
            "Ingrese el primer número: 8\n",
            "Ingrese el segundo número: 5\n",
            "\n",
            "Operaciones disponibles:\n",
            "1. Suma\n",
            "2. Resta\n",
            "3. Multiplicación\n",
            "4. División\n",
            "\n",
            "Seleccione una operación (1/2/3/4): 3\n",
            "\n",
            "El resultado de la multiplicación es: 40.0\n"
          ]
        }
      ]
    }
  ]
}