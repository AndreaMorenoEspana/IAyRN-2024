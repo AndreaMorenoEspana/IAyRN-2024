{
  "nbformat": 4,
  "nbformat_minor": 0,
  "metadata": {
    "colab": {
      "provenance": [],
      "authorship_tag": "ABX9TyMlcOVmNef4dLEEVWLaeQgo",
      "include_colab_link": true
    },
    "kernelspec": {
      "name": "python3",
      "display_name": "Python 3"
    },
    "language_info": {
      "name": "python"
    }
  },
  "cells": [
    {
      "cell_type": "markdown",
      "metadata": {
        "id": "view-in-github",
        "colab_type": "text"
      },
      "source": [
        "<a href=\"https://colab.research.google.com/github/AndreaMorenoEspana/IAyRN-2024/blob/main/Regresi%C3%B3nLineal.ipynb\" target=\"_parent\"><img src=\"https://colab.research.google.com/assets/colab-badge.svg\" alt=\"Open In Colab\"/></a>"
      ]
    },
    {
      "cell_type": "markdown",
      "source": [
        "# **Actividad 3: Solución de Problemas**\n",
        "\n",
        "Andrea Verónica Moreno España  2109443  *IMTC*\n",
        "\n",
        "\n",
        "*   Gpo: 008\n",
        "*   Hora: N4\n"
      ],
      "metadata": {
        "id": "XqvnLRjBnBOJ"
      }
    },
    {
      "cell_type": "code",
      "source": [
        "#Cargar Librerías\n",
        "import numpy as np\n",
        "import matplotlib.pyplot as plt\n",
        "import pandas as pd\n",
        "import sklearn.linear_model\n",
        "from sklearn.model_selection import train_test_split\n",
        "from sklearn.linear_model import LinearRegression\n",
        "from sklearn.metrics import mean_squared_error"
      ],
      "metadata": {
        "id": "RWJYvRFBnD6-"
      },
      "execution_count": 54,
      "outputs": []
    },
    {
      "cell_type": "code",
      "source": [
        "#Generar Datos\n",
        "np.random.seed(0)\n",
        "horas_estudio = np.random.rand(100, 1) * 10\n",
        "calificaciones = 2 * horas_estudio + np.random.randn(100,1) * 2"
      ],
      "metadata": {
        "id": "YguAsIXD7R2E"
      },
      "execution_count": 55,
      "outputs": []
    },
    {
      "cell_type": "code",
      "source": [
        "#Preprocesamiento de Datos\n",
        "train_X, test_X, train_y, test_y = train_test_split(horas_estudio, calificaciones, test_size=0.2, random_state=100)\n"
      ],
      "metadata": {
        "id": "3CPwyhxR7xyQ"
      },
      "execution_count": 56,
      "outputs": []
    },
    {
      "cell_type": "code",
      "source": [
        "#Selección y entrenamiento del modelo.\n",
        "model = sklearn.linear_model.LinearRegression()\n",
        "model.fit(train_X, train_y)\n",
        "prediction = model.predict(test_X)\n",
        "mse = mean_squared_error(test_y, prediction)\n",
        "print(\"Error cuadrático medio:\", mse)"
      ],
      "metadata": {
        "colab": {
          "base_uri": "https://localhost:8080/"
        },
        "id": "U9G8alt_jSkb",
        "outputId": "f3e52bcb-3fab-480a-b6bc-17598a42d495"
      },
      "execution_count": 57,
      "outputs": [
        {
          "output_type": "stream",
          "name": "stdout",
          "text": [
            "Error cuadrático medio: 4.641132813973828\n"
          ]
        }
      ]
    },
    {
      "cell_type": "code",
      "source": [
        "#Prueba de Modelo\n",
        "plt.scatter(test_X, test_y, color='red')\n",
        "plt.xlabel(\"Horas de Estudio\")\n",
        "plt.ylabel(\"Calificaciones\")\n",
        "plt.title(\"Linear Regression Model\")\n",
        "plt.ylim(0, 40)\n",
        "plt.plot(test_X, model.predict(test_X), color='blue')"
      ],
      "metadata": {
        "colab": {
          "base_uri": "https://localhost:8080/",
          "height": 489
        },
        "id": "U3jYerJXVoZh",
        "outputId": "5e535ffb-c335-4d1e-ceb3-ac367ae06d2f"
      },
      "execution_count": 58,
      "outputs": [
        {
          "output_type": "execute_result",
          "data": {
            "text/plain": [
              "[<matplotlib.lines.Line2D at 0x78c94cd5e800>]"
            ]
          },
          "metadata": {},
          "execution_count": 58
        },
        {
          "output_type": "display_data",
          "data": {
            "text/plain": [
              "<Figure size 640x480 with 1 Axes>"
            ],
            "image/png": "[encoded data removed]"
          },
          "metadata": {}
        }
      ]
    },
    {
      "cell_type": "code",
      "source": [
        "X_new= [[40]]\n",
        "print(model.predict(X_new))"
      ],
      "metadata": {
        "colab": {
          "base_uri": "https://localhost:8080/"
        },
        "id": "JDqnoX37mw6M",
        "outputId": "b57402e5-d87a-4b7d-e101-88196cf45f05"
      },
      "execution_count": 53,
      "outputs": [
        {
          "output_type": "stream",
          "name": "stdout",
          "text": [
            "[[79.34289739]]\n"
          ]
        }
      ]
    }
  ]
}